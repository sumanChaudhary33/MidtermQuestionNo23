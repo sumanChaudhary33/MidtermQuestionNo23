{
 "cells": [
  {
   "cell_type": "code",
   "execution_count": 5,
   "id": "97e82ffe-49e7-4d61-b54f-47a2d561b695",
   "metadata": {},
   "outputs": [
    {
     "name": "stdout",
     "output_type": "stream",
     "text": [
      "*\n",
      "**\n",
      " *\n",
      " *\n",
      "****\n",
      " ***\n",
      "  **\n",
      "   *\n",
      "   *\n",
      "  **\n",
      " ***\n"
     ]
    }
   ],
   "source": [
    "def tough(indentation, length):\n",
    "    if length <= 0:\n",
    "        return\n",
    "    if indentation == 0:\n",
    "        print('*' * length)\n",
    "    else:\n",
    "        print(' ' * indentation + '*' * length)\n",
    "    tough(indentation + 1, length - 1)\n",
    "    if indentation > 0:\n",
    "        print(' ' * indentation + '*' * length)\n",
    "\n",
    "# Test the function\n",
    "tough(0, 1)\n",
    "tough(0, 2)\n",
    "tough(0, 4)\n",
    "\n"
   ]
  },
  {
   "cell_type": "code",
   "execution_count": null,
   "id": "28144557-7c17-4a20-8286-212a7ecf9d72",
   "metadata": {},
   "outputs": [],
   "source": []
  }
 ],
 "metadata": {
  "kernelspec": {
   "display_name": "Python 3 (ipykernel)",
   "language": "python",
   "name": "python3"
  },
  "language_info": {
   "codemirror_mode": {
    "name": "ipython",
    "version": 3
   },
   "file_extension": ".py",
   "mimetype": "text/x-python",
   "name": "python",
   "nbconvert_exporter": "python",
   "pygments_lexer": "ipython3",
   "version": "3.11.4"
  }
 },
 "nbformat": 4,
 "nbformat_minor": 5
}
